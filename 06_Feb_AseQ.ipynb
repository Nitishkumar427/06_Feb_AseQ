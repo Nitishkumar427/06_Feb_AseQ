{
 "cells": [
  {
   "cell_type": "markdown",
   "id": "78a5da8a",
   "metadata": {},
   "source": [
    "## Q1. Create a function which will take a list as an argument and return the product of all the numbers after creating a flat list.Use the below-given list as an argument for your function.\n",
    "## list1 = [1,2,3,4, [44,55,66, True], False, (34,56,78,89,34), {1,2,3,3,2,1}, {1:34, \"key2\": [55, 67, 78, 89], 4: (45, 22, 61, 34)}, [56, 'data science'], 'Machine Learning']\n",
    "## Note: you must extract numeric keys and values of the dictionary also."
   ]
  },
  {
   "cell_type": "code",
   "execution_count": 2,
   "id": "31c465d3",
   "metadata": {},
   "outputs": [
    {
     "name": "stdout",
     "output_type": "stream",
     "text": [
      "Product of all numeric values in the list: 0\n"
     ]
    }
   ],
   "source": [
    "def flatten_and_calculate_product(input_list):\n",
    "    flattened_list = []\n",
    "    \n",
    "    # Function to flatten the list and extract numeric values\n",
    "    def flatten_and_extract(input_item):\n",
    "        if isinstance(input_item, (list, tuple, set)):\n",
    "            for item in input_item:\n",
    "                flatten_and_extract(item)\n",
    "        elif isinstance(input_item, (int, float)):\n",
    "            flattened_list.append(input_item)\n",
    "        elif isinstance(input_item, dict):\n",
    "            for key, value in input_item.items():\n",
    "                flatten_and_extract(key)\n",
    "                flatten_and_extract(value)\n",
    "    \n",
    "    flatten_and_extract(input_list)\n",
    "    product = 1\n",
    "    \n",
    "    # Calculate the product of numeric values in the flattened list\n",
    "    for num in flattened_list:\n",
    "        product *= num\n",
    "    \n",
    "    return product\n",
    "\n",
    "# Given list\n",
    "list1 = [1, 2, 3, 4, [44, 55, 66, True], False, (34, 56, 78, 89, 34), {1, 2, 3, 3, 2, 1},\n",
    "         {1: 34, \"key2\": [55, 67, 78, 89], 4: (45, 22, 61, 34)}, [56, 'data science'], 'Machine Learning']\n",
    "\n",
    "# Calculate and print the product of numeric values in the list\n",
    "result = flatten_and_calculate_product(list1)\n",
    "print(\"Product of all numeric values in the list:\", result)\n"
   ]
  },
  {
   "cell_type": "markdown",
   "id": "2d553fe3",
   "metadata": {},
   "source": [
    "## Q2. Write a python program for encrypting a message sent to you by your friend. The logic of encryption should be such that, for a the output should be z. For b, the output should be y. For c, the output should be x respectively. Also, the whitespace should be replaced with a dollar sign. Keep the punctuation marks unchanged.\n",
    "\n",
    "## Input Sentence: I want to become a Data Scientist.\n",
    "## Encrypt the above input sentence using the program you just created.\n",
    "## Note: Convert the given input sentence into lowercase before encrypting. The final output should be lowercase."
   ]
  },
  {
   "cell_type": "code",
   "execution_count": 3,
   "id": "10415c36",
   "metadata": {},
   "outputs": [
    {
     "name": "stdout",
     "output_type": "stream",
     "text": [
      "Encrypted Sentence: r$dzmg$gl$yvxlnv$z$wzgz$hxrvmgrhg.\n"
     ]
    }
   ],
   "source": [
    "def encrypt_message(input_sentence):\n",
    "    encrypted_sentence = \"\"\n",
    "    for char in input_sentence:\n",
    "        # Convert the character to lowercase\n",
    "        char = char.lower()\n",
    "        # Encrypt letters, leave punctuation marks unchanged, and replace whitespace with a dollar sign\n",
    "        if char.isalpha():\n",
    "            encrypted_char = chr(219 - ord(char))  # Encrypt letters using the specified logic\n",
    "        elif char.isspace():\n",
    "            encrypted_char = '$'  # Replace whitespace with a dollar sign\n",
    "        else:\n",
    "            encrypted_char = char  # Leave punctuation marks unchanged\n",
    "        encrypted_sentence += encrypted_char  # Append the encrypted character to the result string\n",
    "    return encrypted_sentence\n",
    "\n",
    "# Input sentence\n",
    "input_sentence = \"I want to become a Data Scientist.\"\n",
    "\n",
    "# Encrypt the input sentence\n",
    "encrypted_sentence = encrypt_message(input_sentence)\n",
    "\n",
    "# Print the encrypted sentence\n",
    "print(\"Encrypted Sentence:\", encrypted_sentence)\n"
   ]
  },
  {
   "cell_type": "code",
   "execution_count": null,
   "id": "213a9a41",
   "metadata": {},
   "outputs": [],
   "source": []
  }
 ],
 "metadata": {
  "kernelspec": {
   "display_name": "Python 3 (ipykernel)",
   "language": "python",
   "name": "python3"
  },
  "language_info": {
   "codemirror_mode": {
    "name": "ipython",
    "version": 3
   },
   "file_extension": ".py",
   "mimetype": "text/x-python",
   "name": "python",
   "nbconvert_exporter": "python",
   "pygments_lexer": "ipython3",
   "version": "3.11.5"
  }
 },
 "nbformat": 4,
 "nbformat_minor": 5
}
